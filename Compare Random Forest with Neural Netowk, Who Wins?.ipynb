{
 "cells": [
  {
   "cell_type": "code",
   "execution_count": 17,
   "metadata": {},
   "outputs": [],
   "source": [
    "import numpy as np\n",
    "import pandas as pd\n",
    "from sklearn.preprocessing import LabelEncoder\n",
    "\n",
    "from keras.models import Sequential\n",
    "from keras.layers import Dense, Dropout\n",
    "from keras.callbacks import EarlyStopping"
   ]
  },
  {
   "cell_type": "code",
   "execution_count": 13,
   "metadata": {
    "collapsed": true
   },
   "outputs": [],
   "source": [
    "# Data can be downloaded at https://archive.ics.uci.edu/ml/machine-learning-databases/undocumented/connectionist-bench/sonar/"
   ]
  },
  {
   "cell_type": "code",
   "execution_count": 2,
   "metadata": {
    "collapsed": true
   },
   "outputs": [],
   "source": [
    "dataframe = pd.read_csv(\"sonar.all-data.csv\", header=None)\n",
    "data = dataframe.values"
   ]
  },
  {
   "cell_type": "code",
   "execution_count": 72,
   "metadata": {},
   "outputs": [],
   "source": [
    "from sklearn.model_selection import train_test_split\n",
    "\n",
    "X = data[:,0:60].astype(float)\n",
    "y = data[:,60]\n",
    "\n",
    "encoder = LabelEncoder()\n",
    "encoder.fit(y)\n",
    "y = encoder.transform(y)\n",
    "\n",
    "X_train,  X_test,y_train, y_test = train_test_split(X, y, test_size=0.1)"
   ]
  },
  {
   "cell_type": "code",
   "execution_count": 46,
   "metadata": {},
   "outputs": [
    {
     "data": {
      "text/plain": [
       "((187, 60), (21, 60), (208,))"
      ]
     },
     "execution_count": 46,
     "metadata": {},
     "output_type": "execute_result"
    }
   ],
   "source": [
    "X_train.shape, X_test.shape, y.shape"
   ]
  },
  {
   "cell_type": "code",
   "execution_count": 77,
   "metadata": {},
   "outputs": [
    {
     "name": "stdout",
     "output_type": "stream",
     "text": [
      "_________________________________________________________________\n",
      "Layer (type)                 Output Shape              Param #   \n",
      "=================================================================\n",
      "dense_31 (Dense)             (None, 512)               31232     \n",
      "_________________________________________________________________\n",
      "dropout_12 (Dropout)         (None, 512)               0         \n",
      "_________________________________________________________________\n",
      "dense_32 (Dense)             (None, 128)               65664     \n",
      "_________________________________________________________________\n",
      "dropout_13 (Dropout)         (None, 128)               0         \n",
      "_________________________________________________________________\n",
      "dense_33 (Dense)             (None, 1)                 129       \n",
      "=================================================================\n",
      "Total params: 97,025\n",
      "Trainable params: 97,025\n",
      "Non-trainable params: 0\n",
      "_________________________________________________________________\n"
     ]
    }
   ],
   "source": [
    "model = Sequential()\n",
    "\n",
    "model.add(Dense(512, input_dim=60, activation='relu'))\n",
    "model.add(Dropout(0.1))\n",
    "model.add(Dense(128, activation='relu'))\n",
    "model.add(Dropout(0.1))\n",
    "model.add(Dense(1, activation='sigmoid'))\n",
    "\n",
    "model.compile(loss='binary_crossentropy', optimizer='adam', metrics=['accuracy'])\n",
    "model.summary()"
   ]
  },
  {
   "cell_type": "code",
   "execution_count": 90,
   "metadata": {
    "collapsed": true
   },
   "outputs": [],
   "source": [
    "def accuracy(actual, pred):\n",
    "    return (np.sum(actual==pred)/len(actual))"
   ]
  },
  {
   "cell_type": "code",
   "execution_count": 95,
   "metadata": {},
   "outputs": [
    {
     "name": "stdout",
     "output_type": "stream",
     "text": [
      "Accuracy of Random Forest:  0.857142857143\n"
     ]
    }
   ],
   "source": [
    "from sklearn.linear_model import LogisticRegression\n",
    "from sklearn.ensemble import RandomForestClassifier\n",
    "\n",
    "rnd = RandomForestClassifier(n_estimators=50)\n",
    "\n",
    "rnd.fit(X_train, y_train)\n",
    "pred = rnd.predict(X_test)\n",
    "print(\"Accuracy of Random Forest: \", accuracy(pred, y_test))"
   ]
  },
  {
   "cell_type": "code",
   "execution_count": 14,
   "metadata": {
    "collapsed": true
   },
   "outputs": [],
   "source": [
    "callbacks = [EarlyStopping(monitor='val_acc', patience=20)]"
   ]
  },
  {
   "cell_type": "code",
   "execution_count": 96,
   "metadata": {},
   "outputs": [
    {
     "name": "stdout",
     "output_type": "stream",
     "text": [
      "Train on 187 samples, validate on 21 samples\n",
      "Epoch 1/1000\n",
      "187/187 [==============================] - 0s - loss: 0.0016 - acc: 1.0000 - val_loss: 0.0686 - val_acc: 1.0000\n",
      "Epoch 2/1000\n",
      "187/187 [==============================] - 0s - loss: 0.0016 - acc: 1.0000 - val_loss: 0.0797 - val_acc: 0.9524\n",
      "Epoch 3/1000\n",
      "187/187 [==============================] - 0s - loss: 0.0018 - acc: 1.0000 - val_loss: 0.0673 - val_acc: 1.0000\n",
      "Epoch 4/1000\n",
      "187/187 [==============================] - 0s - loss: 0.0022 - acc: 1.0000 - val_loss: 0.0708 - val_acc: 0.9524\n",
      "Epoch 5/1000\n",
      "187/187 [==============================] - 0s - loss: 0.0025 - acc: 1.0000 - val_loss: 0.0736 - val_acc: 0.9524\n",
      "Epoch 6/1000\n",
      "187/187 [==============================] - 0s - loss: 0.0021 - acc: 1.0000 - val_loss: 0.0781 - val_acc: 0.9524\n",
      "Epoch 7/1000\n",
      "187/187 [==============================] - 0s - loss: 0.0016 - acc: 1.0000 - val_loss: 0.1827 - val_acc: 0.9048\n",
      "Epoch 8/1000\n",
      "187/187 [==============================] - 0s - loss: 0.0018 - acc: 1.0000 - val_loss: 0.0495 - val_acc: 1.0000\n",
      "Epoch 9/1000\n",
      "187/187 [==============================] - 0s - loss: 0.0015 - acc: 1.0000 - val_loss: 0.0922 - val_acc: 0.9524\n",
      "Epoch 10/1000\n",
      "187/187 [==============================] - 0s - loss: 0.0011 - acc: 1.0000 - val_loss: 0.0784 - val_acc: 0.9524\n",
      "Epoch 11/1000\n",
      "187/187 [==============================] - 0s - loss: 0.0013 - acc: 1.0000 - val_loss: 0.0660 - val_acc: 1.0000\n",
      "Epoch 12/1000\n",
      "187/187 [==============================] - 0s - loss: 0.0018 - acc: 1.0000 - val_loss: 0.1008 - val_acc: 0.9524\n",
      "Epoch 13/1000\n",
      "187/187 [==============================] - 0s - loss: 0.0016 - acc: 1.0000 - val_loss: 0.0431 - val_acc: 1.0000\n",
      "Epoch 14/1000\n",
      "187/187 [==============================] - 0s - loss: 0.0019 - acc: 1.0000 - val_loss: 0.1022 - val_acc: 0.9524\n",
      "Epoch 15/1000\n",
      "187/187 [==============================] - 0s - loss: 0.0013 - acc: 1.0000 - val_loss: 0.0685 - val_acc: 1.0000\n",
      "Epoch 16/1000\n",
      "187/187 [==============================] - 0s - loss: 0.0011 - acc: 1.0000 - val_loss: 0.1147 - val_acc: 0.9524\n",
      "Epoch 17/1000\n",
      "187/187 [==============================] - 0s - loss: 9.9476e-04 - acc: 1.0000 - val_loss: 0.1189 - val_acc: 0.9524\n",
      "Epoch 18/1000\n",
      "187/187 [==============================] - 0s - loss: 0.0011 - acc: 1.0000 - val_loss: 0.0769 - val_acc: 0.9524\n",
      "Epoch 19/1000\n",
      "187/187 [==============================] - 0s - loss: 0.0016 - acc: 1.0000 - val_loss: 0.0218 - val_acc: 1.0000\n",
      "Epoch 20/1000\n",
      "187/187 [==============================] - 0s - loss: 0.0017 - acc: 1.0000 - val_loss: 0.0593 - val_acc: 1.0000\n",
      "Epoch 21/1000\n",
      "187/187 [==============================] - 0s - loss: 0.0014 - acc: 1.0000 - val_loss: 0.0619 - val_acc: 0.9524\n",
      "Epoch 22/1000\n",
      "187/187 [==============================] - 0s - loss: 8.7176e-04 - acc: 1.0000 - val_loss: 0.0386 - val_acc: 1.0000\n",
      "21/21 [==============================] - 0s\n",
      "\n",
      "Accuracy on test:  1.0\n"
     ]
    }
   ],
   "source": [
    "n_epochs = 1000\n",
    "batch_size = 16\n",
    "model.fit(X, y, epochs=n_epochs, batch_size=batch_size, validation_split=0.1, callbacks=callbacks)\n",
    "pred = model.predict_classes(X_test)\n",
    "print(\"\\nAccuracy on test: \", accuracy(np.squeeze(pred), np.squeeze(y_test)))"
   ]
  },
  {
   "cell_type": "code",
   "execution_count": 80,
   "metadata": {
    "collapsed": true
   },
   "outputs": [],
   "source": []
  }
 ],
 "metadata": {
  "kernelspec": {
   "display_name": "Python 3",
   "language": "python",
   "name": "python3"
  },
  "language_info": {
   "codemirror_mode": {
    "name": "ipython",
    "version": 3
   },
   "file_extension": ".py",
   "mimetype": "text/x-python",
   "name": "python",
   "nbconvert_exporter": "python",
   "pygments_lexer": "ipython3",
   "version": "3.5.3"
  },
  "widgets": {
   "state": {},
   "version": "1.1.2"
  }
 },
 "nbformat": 4,
 "nbformat_minor": 2
}
